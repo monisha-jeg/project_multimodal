{
 "cells": [
  {
   "cell_type": "code",
   "execution_count": 1,
   "metadata": {},
   "outputs": [],
   "source": [
    "import os, json"
   ]
  },
  {
   "cell_type": "code",
   "execution_count": 5,
   "metadata": {},
   "outputs": [],
   "source": [
    "meta_data = \"../meta_data/\"\n",
    "attributes = meta_data + \"attributes_final/\"\n",
    "all_colors_file = attributes + \"all_colors.txt\"\n",
    "\n",
    "raw_catalog = \"../raw_catalog/\"\n",
    "public_jsons = [raw_catalog + \"public_jsons/\" + name for name in os.listdir(raw_catalog + \"public_jsons/\")] + \\\n",
    "               [raw_catalog + \"public_jsons/\" + name for name in os.listdir(raw_catalog + \"public_jsons (2)/\")] + \\\n",
    "               [raw_catalog + \"public_jsons/\" + name for name in os.listdir(raw_catalog + \"public_jsons (3)/\")] + \\\n",
    "               [raw_catalog + \"public_jsons/\" + name for name in os.listdir(raw_catalog + \"public_jsons (4)/\")]  \\"
   ]
  },
  {
   "cell_type": "code",
   "execution_count": 8,
   "metadata": {},
   "outputs": [
    {
     "name": "stdout",
     "output_type": "stream",
     "text": [
      "Num colors :  1248\n",
      "585191.0\n"
     ]
    }
   ],
   "source": [
    "#All the colors as appearing in the dialogue text and the number of times they appear\n",
    "all_colors = [line.strip().split()[-2:] for line in open(all_colors_file).readlines()]\n",
    "print \"Num colors : \", len(all_colors)\n",
    "count_colors = 0\n",
    "colors = []\n",
    "for color, count in all_colors:\n",
    "    colors += color\n",
    "    count_colors += float(count)float(count) + float(count)\n",
    "print count_colors"
   ]
  },
  {
   "cell_type": "code",
   "execution_count": 7,
   "metadata": {},
   "outputs": [
    {
     "name": "stdout",
     "output_type": "stream",
     "text": [
      "{u'color': u'background:#CA1F7B', u'taxonomy': u'women/ethnicwear/ethnic-bottoms/ayaany women pink printed regular fit dhoti salwars', u'site': u'IN_abof_new', u'currency': u'INR', u'available_sizes': [u'S', u'M', u'L', u'XL', u'XXL'], u'id': u'AYANS16AWEWSA9177C80', u'image_filename': u'http://images.abofcdn.com/catalog/images/2015/AYANS16AWEWSA9177C80/Front_Large.jpg', u'image_type': u'front', u'image_filename_all': {u'front': [u'http://images.abofcdn.com/catalog/images/2015/AYANS16AWEWSA9177C80/Front_Large.jpg'], u'detail': [u'http://images.abofcdn.com/catalog/images/2015/AYANS16AWEWSA9177C80/Detail_2_Large.jpg'], u'back': [u'http://images.abofcdn.com/catalog/images/2015/AYANS16AWEWSA9177C80/Back_Large.jpg'], u'left': [u'http://images.abofcdn.com/catalog/images/2015/AYANS16AWEWSA9177C80/Left_Large.jpg']}, u'type': u'Salwar', u'brand': u'Ayaany', u'more_info': u'AYANS16AWEWSA9177C', u'price': 750, u'material': u'100% polyester', u'similar_items': [u'http://www.abof.com/product/WZZZS16AWEWCH9708322-W-Women-Pink-Churidar-Regular-Fit-Leggings', u'http://www.abof.com/product/GOCOS16AWEWCH9NK2627-Go-Colors-Women-Dark-Pink-Churidar-Slim-Fit-Leggings', u'http://www.abof.com/product/GOCOS16AWEWCH9SE2722-Go-Colors-Women-Dark-Pink-Churidar-Slim-Fit-Leggings', u'http://www.abof.com/product/GOCOS16AWEWCH9IA2820-Go-Colors-Women-Fuchsia-Pink-Churidar-Slim-Fit-Leggings', u'http://www.abof.com/product/GOCOS16AWEWCH9NK3422-Go-Colors-Women-Light-Pink-Churidar-Slim-Fit-Leggings', u'http://www.abof.com/product/GOCOS16AWEWCH9NK3222-Go-Colors-Women-Pink-Churidar-Slim-Fit-Leggings', u'http://www.abof.com/product/GOCOS16AWEWCH9UM2560-Go-Colors-Women-Magenta-Churidar-Slim-Fit-Leggings', u'http://www.abof.com/product/GOCOS16AWEWPL927FS22-Go-Colors-Women-Magenta-Regular-Fit-Patiala-Pants', u'http://www.abof.com/product/AURES16AWEWCH9152522-Aurelia-Women-Pink-Churidar-Regular-Fit-Leggings', u'http://www.abof.com/product/AURES16AWEWCH9152622-Aurelia-Women-Pink-Churidar-Regular-Fit-Leggings'], u'model_worn': u'yes', u'size_fit': u'The model (height 5\\'8\" and waist 28\") is wearing a size S', u'care': u' Machine-wash', u'name': u'Ayaany Women Pink Printed Regular Fit Dhoti Salwars', u'url': u'http://www.abof.com/product/AYANS16AWEWSA9177C80-Ayaany-Women-Pink-Printed-Regular-Fit-Dhoti-Salwars', u'gender': u'women', u'color_name': u'Magenta', u'image_url': u'http://images.abofcdn.com/catalog/images/2015/AYANS16AWEWSA9177C80/Front_Large.jpg'}\n"
     ]
    }
   ],
   "source": [
    "#An example catalogue\n",
    "for public_json in public_jsons[:1]:\n",
    "    print(json.load(open(public_json)))"
   ]
  },
  {
   "cell_type": "code",
   "execution_count": null,
   "metadata": {},
   "outputs": [],
   "source": []
  }
 ],
 "metadata": {
  "kernelspec": {
   "display_name": "Python 2",
   "language": "python",
   "name": "python2"
  },
  "language_info": {
   "codemirror_mode": {
    "name": "ipython",
    "version": 2
   },
   "file_extension": ".py",
   "mimetype": "text/x-python",
   "name": "python",
   "nbconvert_exporter": "python",
   "pygments_lexer": "ipython2",
   "version": "2.7.12"
  }
 },
 "nbformat": 4,
 "nbformat_minor": 2
}
