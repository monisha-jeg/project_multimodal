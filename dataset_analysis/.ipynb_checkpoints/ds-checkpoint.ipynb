{
 "cells": [
  {
   "cell_type": "code",
   "execution_count": 1,
   "metadata": {},
   "outputs": [],
   "source": [
    "import os, json"
   ]
  },
  {
   "cell_type": "code",
   "execution_count": 2,
   "metadata": {},
   "outputs": [],
   "source": [
    "dataset_dir = \"../dataset/v2/\"\n",
    "\n",
    "train_dir = dataset_dir + \"train/\"\n",
    "val_dir = dataset_dir + \"valid/\"\n",
    "test_dir = dataset_dir + \"test/\""
   ]
  },
  {
   "cell_type": "code",
   "execution_count": 3,
   "metadata": {},
   "outputs": [
    {
     "name": "stdout",
     "output_type": "stream",
     "text": [
      "Train :  105439\n",
      "Val :  22595\n",
      "Test :  22595\n",
      "Total :  150629\n"
     ]
    }
   ],
   "source": [
    "#Number of train, test and validation files\n",
    "train_files = os.listdir(train_dir)\n",
    "print \"Train : \", len(train_files)\n",
    "\n",
    "val_files = os.listdir(val_dir)\n",
    "print \"Val : \", len(val_files)\n",
    "\n",
    "test_files = os.listdir(test_dir)\n",
    "print \"Test : \", len(test_files)\n",
    "\n",
    "print \"Total : \", len(train_files + val_files + test_files)"
   ]
  },
  {
   "cell_type": "code",
   "execution_count": null,
   "metadata": {},
   "outputs": [],
   "source": [
    "#Average length of each file\n",
    "parse_through = train_files\n",
    "\n",
    "sum_lengths = 0\n",
    "for filename in parse_through:\n",
    "    file_ = json.load(open(train_dir + filename))\n",
    "    sum_lengths += len(file_)\n",
    "avg_length = sum_lengths / len(parse_through)"
   ]
  },
  {
   "cell_type": "code",
   "execution_count": null,
   "metadata": {},
   "outputs": [],
   "source": [
    "#Taxonomy words\n",
    "tax_dir = \"../meta_data/taxonomy/\"\n",
    "tax_files = (\"taxonomy_men.txt\", \"taxonomy_women.txt\")\n",
    "tax_list = []\n",
    "for tax_file in tax_files:\n",
    "    tax_lines = open(tax_dir + tax_file).readlines()[:-1]\n",
    "    for tax_line in tax_lines:\n",
    "        taxs = [word.strip() for word in tax_line.split(\">\")[-1].split(\",\")]\n",
    "        tax_list.extend(taxs)\n",
    "tax_list"
   ]
  },
  {
   "cell_type": "code",
   "execution_count": null,
   "metadata": {},
   "outputs": [],
   "source": [
    "#Checking if dialogue contains words in the taxonomy\n",
    "for val_file in val_files[:10]:\n",
    "    val_json = json.load(open(val_dir + val_file))\n",
    "    #print(len(val_file))\n",
    "    for val in val_json:\n",
    "        utter = val['utterance']['nlg']\n",
    "        if utter is not None:\n",
    "            if any([word in tax_list for word in utter.strip().split()]):\n",
    "                print(word)\n",
    "    print(\"=================================================\")"
   ]
  }
 ],
 "metadata": {
  "kernelspec": {
   "display_name": "Python 2",
   "language": "python",
   "name": "python2"
  },
  "language_info": {
   "codemirror_mode": {
    "name": "ipython",
    "version": 2
   },
   "file_extension": ".py",
   "mimetype": "text/x-python",
   "name": "python",
   "nbconvert_exporter": "python",
   "pygments_lexer": "ipython2",
   "version": "2.7.12"
  }
 },
 "nbformat": 4,
 "nbformat_minor": 2
}
