{
 "cells": [
  {
   "cell_type": "code",
   "execution_count": 1,
   "metadata": {},
   "outputs": [],
   "source": [
    "import os, json"
   ]
  },
  {
   "cell_type": "code",
   "execution_count": 3,
   "metadata": {},
   "outputs": [
    {
     "data": {
      "text/plain": [
       "['../meta_data/celebrity_profile/celebrity_distribution_over_synset_men.json',\n",
       " '../meta_data/celebrity_profile/synset_distribution_over_celebrity_women.json',\n",
       " '../meta_data/celebrity_profile/celebrity_distribution_over_synset_women.json',\n",
       " '../meta_data/celebrity_profile/synset_distribution_over_celebrity_men.json']"
      ]
     },
     "execution_count": 3,
     "metadata": {},
     "output_type": "execute_result"
    }
   ],
   "source": [
    "celeb_folder = \"../meta_data/celebrity_profile/\"\n",
    "celeb_files = [celeb_folder + name for name in os.listdir(celeb_folder)]\n",
    "celeb_files"
   ]
  },
  {
   "cell_type": "code",
   "execution_count": 69,
   "metadata": {},
   "outputs": [
    {
     "name": "stdout",
     "output_type": "stream",
     "text": [
      "199\n",
      "[u'denim shorts', u'dress socks', u'fedora', u'scarf', u'oxfords', u'bag', u'slip ons', u'footwear', u'kurta', u'glasses']\n",
      "9.5\n"
     ]
    }
   ],
   "source": [
    "celeb_file = '../meta_data/celebrity_profile/celebrity_distribution_over_synset_men.json'\n",
    "celeb_json = json.load(open(celeb_file))\n",
    "print(len(celeb_json))\n",
    "one_synset_name, one_synset_vals = celeb_json.items()[0]\n",
    "#print(one_synset_vals)\n",
    "print(one_synset_vals.keys())\n",
    "one_synset_attr_name, one_synset_attr_vals = one_synset_vals.items()[1]\n",
    "sumcolorcelebs = 0\n",
    "for color, colorvals in one_synset_attr_vals.items(): \n",
    "    #print(color)\n",
    "    sumcolorcelebs += len(colorvals)\n",
    "avgcolorcelebs = sumcolorcelebs/float(len(one_synset_attr_vals))\n",
    "print(avgcolorcelebs)\n",
    "# # print(style_json.items()[0])\n",
    "# # goes_with = style_json.items()[2][1]\n",
    "# # goes_with_sorted = sorted(goes_with.items(), key=operator.itemgetter(1), reverse = True)\n",
    "# # goes_with_sorted\n",
    "# # tot_val = sum([val for key, val in goes_with_sorted])\n",
    "# # for key, val in goes_with_sorted:\n",
    "# #     print key, val/float(tot_val)"
   ]
  },
  {
   "cell_type": "code",
   "execution_count": null,
   "metadata": {},
   "outputs": [],
   "source": [
    "celeb_file = '../meta_data/celebrity_profile/synset_distribution_over_celebrity_men.json'\n",
    "celeb_json = json.load(open(celeb_file))\n",
    "print(len(celeb_json))\n",
    "one_celeb_name, one_celeb_vals = celeb_json.items()[0]\n",
    "print(one_celeb_vals.keys())\n",
    "one_synset_attr_name, one_synset_attr_vals = one_synset_vals.items()[1]\n",
    "sumcolorcelebs = 0\n",
    "for color, colorvals in one_synset_attr_vals.items(): \n",
    "    #print(color)\n",
    "    sumcolorcelebs += len(colorvals)\n",
    "avgcolorcelebs = sumcolorcelebs/float(len(one_synset_attr_vals))\n",
    "print(avgcolorcelebs)\n",
    "# # print(style_json.items()[0])\n",
    "# # goes_with = style_json.items()[2][1]\n",
    "# # goes_with_sorted = sorted(goes_with.items(), key=operator.itemgetter(1), reverse = True)\n",
    "# # goes_with_sorted\n",
    "# # tot_val = sum([val for key, val in goes_with_sorted])\n",
    "# # for key, val in goes_with_sorted:\n",
    "# #     print key, val/float(tot_val)"
   ]
  },
  {
   "cell_type": "code",
   "execution_count": 98,
   "metadata": {},
   "outputs": [
    {
     "name": "stdout",
     "output_type": "stream",
     "text": [
      "212\n",
      "[u'trouser', u'camisole', u'maxi dress', u'swimsuit', u'thongs', u'footwear', u'hoodie', u'jumper', u'scarf', u'glasses']\n",
      "(80406, [u'joggers shawl collar', u'stockings grey', u'trouser trendy', u'case green blue', u'stilettos linen 52%', u'suitcase natural', u'satchel romper', u'pyjama bubble gum', u'palazzo random', u'casual jacket hourglass fit'], 180840, 853.0188679245283)\n"
     ]
    }
   ],
   "source": [
    "celeb_file = '../meta_data/celebrity_profile/synset_distribution_over_celebrity_women.json'\n",
    "celeb_json = json.load(open(celeb_file))\n",
    "print(len(celeb_json))\n",
    "one_celeb_name, one_celeb_vals = celeb_json.items()[0]\n",
    "print(one_celeb_vals.keys())\n",
    "num_synsets = 0\n",
    "total_num = 0\n",
    "# per_celeb_num = 0\n",
    "synsets = set([])\n",
    "for one_celeb_name, one_celeb_vals in celeb_json.items()[:]:\n",
    "    for one_synset_name, one_synset_vals in one_celeb_vals.items()[:]:\n",
    "    #     num_synsets += len(one_synset_vals)\n",
    "    #     print(one_synset_vals.keys())\n",
    "        for attr, attrvals in one_synset_vals.items():            \n",
    "            synsets.update([one_synset_name + \" \" + attrnum for attrnum in attrvals.keys()])\n",
    "            total_num += len(attrvals)\n",
    "#             per_celeb_num += total_num\n",
    "#print(num_synsets/float(len(one_celeb_vals)))\n",
    "print(len(synsets), list(synsets)[:10], total_num, total_num/float(len(celeb_json)))\n",
    "# one_synset_attr_name, one_synset_attr_vals = one_celeb_vals.items()[1]\n",
    "# sumcolorcelebs = 0\n",
    "# for color, colorvals in one_synset_attr_vals.items(): \n",
    "#     #print(color)\n",
    "#     sumcolorcelebs += len(colorvals)\n",
    "# avgcolorcelebs = sumcolorcelebs/float(len(one_synset_attr_vals))\n",
    "# print(avgcolorcelebs)\n",
    "# # print(style_json.items()[0])\n",
    "# # goes_with = style_json.items()[2][1]\n",
    "# # goes_with_sorted = sorted(goes_with.items(), key=operator.itemgetter(1), reverse = True)\n",
    "# # goes_with_sorted\n",
    "# # tot_val = sum([val for key, val in goes_with_sorted])\n",
    "# # for key, val in goes_with_sorted:\n",
    "# #     print key, val/float(tot_val)\n",
    "\n"
   ]
  },
  {
   "cell_type": "code",
   "execution_count": null,
   "metadata": {},
   "outputs": [],
   "source": []
  }
 ],
 "metadata": {
  "kernelspec": {
   "display_name": "Python 2",
   "language": "python",
   "name": "python2"
  },
  "language_info": {
   "codemirror_mode": {
    "name": "ipython",
    "version": 2
   },
   "file_extension": ".py",
   "mimetype": "text/x-python",
   "name": "python",
   "nbconvert_exporter": "python",
   "pygments_lexer": "ipython2",
   "version": "2.7.12"
  }
 },
 "nbformat": 4,
 "nbformat_minor": 2
}
