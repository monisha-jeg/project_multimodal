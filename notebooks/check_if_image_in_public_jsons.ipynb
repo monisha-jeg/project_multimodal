{
 "cells": [
  {
   "cell_type": "code",
   "execution_count": null,
   "metadata": {},
   "outputs": [],
   "source": [
    "import os , json\n",
    "\n",
    "url = 'https://images-na.ssl-images-amazon.com/images/I/512ZS1-uQcL.jpg'\n",
    "dirlist = [\"../../../raw_catalog/public_jsons (4)/\",\n",
    "            \"../../../raw_catalog/public_jsons (3)/\",\n",
    "            \"../../../raw_catalog/public_jsons (2)/\",\n",
    "            \"../../../raw_catalog/public_json/\"]\n",
    "        \n",
    "for diri in dirlist:\n",
    "    k = os.listdir(diri)\n",
    "    print(len(k))\n",
    "    for json_name in k:\n",
    "        json_ = json.load(open(diri + json_name))\n",
    "        #print(str(json_)[:10])        \n",
    "        if url in str(json_):\n",
    "            print(\"found\", json_name, diri)\n",
    "            break"
   ]
  },
  {
   "cell_type": "code",
   "execution_count": 11,
   "metadata": {},
   "outputs": [
    {
     "name": "stdout",
     "output_type": "stream",
     "text": [
      "{u'color': u'', u'taxonomy': u'Electronics/Computers & Accessories/Computer Accessories & Peripherals/Cables & Interconnects/Ethernet Cables/Cat 6 Cables/Cable Matters 5-Pack, Cat6 Snagless Ethernet Patch Cable in Blue 14 Feet', u'site': u'com_amazon', u'currency': u'USD', u'available_sizes': [u'1 Foot (5-Pack)', u'3 Feet (5-Pack)', u'5 Feet (5-Pack)', u'7 Feet (5-Pack)', u'10 Feet (5-Pack)', u'20 Feet', u'25 Feet', u'30 Feet', u'35 Feet', u'50 Feet', u'75 Feet', u'100 Feet', u'125 Feet', u'150 Feet'], u'id': u'B00C2BQDUG', u'image_filename': u'https://images-na.ssl-images-amazon.com/images/I/4117JORoryL.jpg', u'style': u'', u'fit': u'', u'bestSellerRank': u'', u'image_type': u'look', u'review': [u'This is a well built cable.  Nothing special, but the price is good and it functions as expected.  I like the snag-less feature as I installed this cable inside a wall to hard wire my Apple TV to my router (in my case, the performance increase from WiFi to direct ethernet connection was tremendous).', u\"Works perfectly for my situation. I have a new computer that is one room away from the router location. This 50 foot cable allowed direct access to the router to establish an internet connection that is strong and stable. Using staples to snake the cable up to the ceiling, over, and down a wall to the computer, the white color matches the white of the ceiling and the wall making the cable barely noticeable. It's all good!\", u\"Great Value as described, shipping was fast! I'm very pleased with this product, I decided to change from Cat5 to Cat6 cables, I stream Netflix & Amazon Prime Video, and picture seems even better!I also wanted to have colored cables (I purchased a green one too), so much easier to work with/identify. I would order from this company again!\", u\"There's honestly not much one can say about an Ethernet cable.\", u\"This cable works as intended.  It's durable, the colors I've received (green and blue) are pleasing to the eye, and it's the right price.  If I am ever in need of new Ethernet cables, I would buy these again in a heartbeat.  I would also recommend these to friends / family if they were in need of an Ethernet cable.\", u'We thought wifi was where it\\'s at, but my 13 year old son vehemently disagrees. Apparently his computer games have \"wifi lag\" and he needed to be hardwired in order to play at his fullest potential. Blah blah blah, we gave the kid what he wanted because he is a great child who sincerely thinks milliseconds matter. He is very happy and so we are too. We ran this from our main floor modem, upstairs to his room, into an old router and used two short ethernet cords out to my son\\'s PS4 and his gaming desk computer. He is very happy and we found the cord works well. It was very much beneficial to get the wifi hog (my kid) wired up, lol. I got the Cat6 instead of 5, because although my research shows little to no difference today, I didn\\'t want to have to upgrade in another 18 months because my kid outgrew the previous version. Very pleased.', u\"I imagine there are other brands that also get the job done, but after getting several ethernet cables from Cable Matters, they're the ones I'm sticking with! No failures, no problems! Also a bonus that the tabs are easy to push, unlike some cables that almost need pliers. You know what I'm talking about!\", u'**UPDATE 4/19/16**', u'apparently got a bad cable', u\"Couldn't figure out why I was having issues connected to Ethernet\", u'Thought it might be a network driver issue or a modem issue', u'But after replacing this cable with a shorter one had laying around come to conclusion its this cable that was bad', u'Not a big deal it happens only out a couple $$$ , disappointed but not to upset', u'I need a 15 foot+ Ethernet cable', u'it works , really not much to review', u'ends snap in ok , no twists in cable', u'works good', u\"This is a nice cat 6 Ethernet cable.  I'm using it to connect my PS4 which is quite a distance from my router and modem.  I've tested my connection speeds and everything is working great.  The cable is labeled and seems to be covered with a durable material.  The ends of put together well and I like the snap type connection with the snag less feature.\"], u'neck': u'', u'details': [u'', u'', u'High Performance Cat6', u' 24 AWG', u' RJ45 Ethernet Patch Cable provides universal connectivity for LAN network components such as PCs', u' computer servers', u' printers', u' routers', u' switch boxes', u' network media players', u' NAS', u' VoIP phones', u' PoE devices', u' and more', u'Cat6 performance at a Cat5e price but with higher bandwidth; Future-proof your network for 10-Gigabit Ethernet (backwards compatible with any existing Fast Ethernet and Gigabit Ethernet); Meets or exceeds Category 6 performance in compliance with the TIA/EIA 568-C.2 standard', u'A Category 6 Ethernet patch cable is also referred to as a Cat6 network cable', u' Cat6 cable', u' Cat6 Ethernet cable', u' or Cat 6 data/LAN cable. A wired Cat 6 network is more reliable and secure than a wireless network for your internet connections', u'The connectors with gold-plated contacts', u' molded strain-relief boots', u' and snagless molds resist corrosion', u' provide durability', u' and ensure a secure connection; Bare copper conductors enhance cable performance and comply with specifications for communications cables', u'Flexible and durable Cat6 cable with high bandwidth of up to 550 MHz guarantees high-speed data transfer for server applications', u' cloud computing', u' video surveillance', u' and online high definition video streaming'], u'image_filename_all': {u'front': [u'https://images-na.ssl-images-amazon.com/images/I/51BYS2FcCSL.jpg'], u'left': [], u'right': [u'https://images-na.ssl-images-amazon.com/images/I/511G0ZeXkYL.jpg'], u'look': [u'https://images-na.ssl-images-amazon.com/images/I/4117JORoryL.jpg'], u'back': [u'https://images-na.ssl-images-amazon.com/images/I/31URSqLxmBL.jpg']}, u'type': u'', u'price': 19.99, u'brand': u'Cable Matters', u'material': u'', u'similar_items': [u'https://www.amazon.com//Cable-Matters-8-Pack-Snagless-Ethernet/dp/B00HSSRRSK?ie=UTF8&psc=1', u'https://www.amazon.com//Cable-Matters-10-Pack-Snagless-Ethernet/dp/B00K2E4WA8?ie=UTF8&psc=1', u'https://www.amazon.com//Cable-Matters-5-Pack-Snagless-Ethernet/dp/B00C2DLRV4?ie=UTF8&psc=1', u'https://www.amazon.com//Cable-Matters-8-Pack-Snagless-Ethernet/dp/B00HSSRNU2?ie=UTF8&psc=1', u'https://www.amazon.com//Cable-Matters-10-Pack-Snagless-Ethernet/dp/B00K2E4STI?ie=UTF8&psc=1', u'https://www.amazon.com//Cable-Matters-8-Pack-Snagless-Ethernet/dp/B00HSSROZG?ie=UTF8&psc=1', u'https://www.amazon.com//Cable-Matters-10-Pack-Snagless-Ethernet/dp/B00K2E4WA8?ie=UTF8&psc=1', u'https://www.amazon.com//Cable-Matters-10-Pack-Snagless-Ethernet/dp/B00K2E4WA8?ie=UTF8&psc=1', u'https://www.amazon.com//Cable-Matters-5-Color-Snagless-Ethernet/dp/B00E5I7YYS?ie=UTF8&psc=1', u'https://www.amazon.com//Cable-Matters-5-Color-Snagless-Ethernet/dp/B00E5I7YYS?ie=UTF8&psc=1', u'https://www.amazon.com//Cable-Matters-5-Pack-Snagless-Ethernet/dp/B00C2DLRV4?ie=UTF8&psc=1', u'https://www.amazon.com//Cable-Matters-5-Pack-Snagless-Ethernet/dp/B00C2DLRV4?ie=UTF8&psc=1', u'https://www.amazon.com//Cable-Matters-5-Pack-Snagless-Ethernet/dp/B00C2BQDUG?ie=UTF8&psc=1', u'https://www.amazon.com//Cable-Matters-5-Pack-Snagless-Ethernet/dp/B00C2BQDUG?ie=UTF8&psc=1'], u'reviewStars': [u'5.0 out of 5 stars', u'5.0 out of 5 stars', u'5.0 out of 5 stars', u'5.0 out of 5 stars', u'5.0 out of 5 stars', u'5.0 out of 5 stars', u'2.0 out of 5 stars', u'5.0 out of 5 stars'], u'model_worn': u'yes', u'care': u'', u'name': u'Cable Matters 5-Pack, Cat6 Snagless Ethernet Patch Cable in Blue 14 Feet', u'url': u'https://www.amazon.com/Cable-Matters-5-Pack-Snagless-Ethernet/dp/B00C2BQDUG', u'gender': u'all', u'length': u'', u'avgStars': [], u'image_url': u'https://images-na.ssl-images-amazon.com/images/I/4117JORoryL.jpg', u'sleeves': u''}\n"
     ]
    }
   ],
   "source": [
    "json_ = json.load(open('../../../raw_catalog/public_jsons (4)/' + 'B00C2BQDUG_look_1.json'))\n",
    "print(json_)"
   ]
  },
  {
   "cell_type": "code",
   "execution_count": null,
   "metadata": {},
   "outputs": [],
   "source": []
  }
 ],
 "metadata": {
  "kernelspec": {
   "display_name": "Python 3",
   "language": "python",
   "name": "python3"
  }
 },
 "nbformat": 4,
 "nbformat_minor": 2
}
